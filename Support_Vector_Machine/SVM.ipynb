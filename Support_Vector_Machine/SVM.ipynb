{
 "cells": [
  {
   "cell_type": "code",
   "execution_count": 1,
   "metadata": {},
   "outputs": [],
   "source": [
    "import pandas as pd\n",
    "from sklearn.model_selection import train_test_split\n",
    "from sklearn.svm import SVC\n",
    "from sklearn.metrics import confusion_matrix, accuracy_score, precision_score, recall_score, f1_score\n"
   ]
  },
  {
   "cell_type": "code",
   "execution_count": 2,
   "metadata": {},
   "outputs": [
    {
     "name": "stdout",
     "output_type": "stream",
     "text": [
      "     age  sex  cp  trtbps  chol  fbs  restecg  thalachh  exng  oldpeak  slp  \\\n",
      "0     63    1   3     145   233    1        0       150     0      2.3    0   \n",
      "1     37    1   2     130   250    0        1       187     0      3.5    0   \n",
      "2     41    0   1     130   204    0        0       172     0      1.4    2   \n",
      "3     56    1   1     120   236    0        1       178     0      0.8    2   \n",
      "4     57    0   0     120   354    0        1       163     1      0.6    2   \n",
      "..   ...  ...  ..     ...   ...  ...      ...       ...   ...      ...  ...   \n",
      "298   57    0   0     140   241    0        1       123     1      0.2    1   \n",
      "299   45    1   3     110   264    0        1       132     0      1.2    1   \n",
      "300   68    1   0     144   193    1        1       141     0      3.4    1   \n",
      "301   57    1   0     130   131    0        1       115     1      1.2    1   \n",
      "302   57    0   1     130   236    0        0       174     0      0.0    1   \n",
      "\n",
      "     caa  thall  output  \n",
      "0      0      1       1  \n",
      "1      0      2       1  \n",
      "2      0      2       1  \n",
      "3      0      2       1  \n",
      "4      0      2       1  \n",
      "..   ...    ...     ...  \n",
      "298    0      3       0  \n",
      "299    0      3       0  \n",
      "300    2      3       0  \n",
      "301    1      3       0  \n",
      "302    1      2       0  \n",
      "\n",
      "[303 rows x 14 columns]\n"
     ]
    }
   ],
   "source": [
    "\n",
    "Heart_data = pd.read_csv(\"Heart_Attack_Prediction.csv\")\n",
    "print(Heart_data)  \n"
   ]
  },
  {
   "cell_type": "code",
   "execution_count": 3,
   "metadata": {},
   "outputs": [
    {
     "name": "stdout",
     "output_type": "stream",
     "text": [
      "        ID  Age  Experience  Income  ZIP Code  Family CCAvg  Education  \\\n",
      "0        1   25           1      49     91107       4  1/60          1   \n",
      "1        2   45          19      34     90089       3  1/50          1   \n",
      "2        3   39          15      11     94720       1  1/00          1   \n",
      "3        4   35           9     100     94112       1  2/70          2   \n",
      "4        5   35           8      45     91330       4  1/00          2   \n",
      "...    ...  ...         ...     ...       ...     ...   ...        ...   \n",
      "4995  4996   29           3      40     92697       1  1/90          3   \n",
      "4996  4997   30           4      15     92037       4  0/40          1   \n",
      "4997  4998   63          39      24     93023       2  0/30          3   \n",
      "4998  4999   65          40      49     90034       3  0/50          2   \n",
      "4999  5000   28           4      83     92612       3  0/80          1   \n",
      "\n",
      "      Mortgage  Personal Loan  Securities Account  CD Account  Online  \\\n",
      "0            0              0                   1           0       0   \n",
      "1            0              0                   1           0       0   \n",
      "2            0              0                   0           0       0   \n",
      "3            0              0                   0           0       0   \n",
      "4            0              0                   0           0       0   \n",
      "...        ...            ...                 ...         ...     ...   \n",
      "4995         0              0                   0           0       1   \n",
      "4996        85              0                   0           0       1   \n",
      "4997         0              0                   0           0       0   \n",
      "4998         0              0                   0           0       1   \n",
      "4999         0              0                   0           0       1   \n",
      "\n",
      "      CreditCard  \n",
      "0              0  \n",
      "1              0  \n",
      "2              0  \n",
      "3              0  \n",
      "4              1  \n",
      "...          ...  \n",
      "4995           0  \n",
      "4996           0  \n",
      "4997           0  \n",
      "4998           0  \n",
      "4999           1  \n",
      "\n",
      "[5000 rows x 14 columns]\n"
     ]
    }
   ],
   "source": [
    "\n",
    "bank_data = pd.read_csv(\"Bank_Loan_Granting.csv\")  \n",
    "print(bank_data)"
   ]
  },
  {
   "cell_type": "code",
   "execution_count": 4,
   "metadata": {},
   "outputs": [
    {
     "name": "stdout",
     "output_type": "stream",
     "text": [
      "        ID  Age  Experience  Income  ZIP Code  Family  CCAvg  Education  \\\n",
      "0        1   25           1      49     91107       4     19          1   \n",
      "1        2   45          19      34     90089       3     18          1   \n",
      "2        3   39          15      11     94720       1     12          1   \n",
      "3        4   35           9     100     94112       1     35          2   \n",
      "4        5   35           8      45     91330       4     12          2   \n",
      "...    ...  ...         ...     ...       ...     ...    ...        ...   \n",
      "4995  4996   29           3      40     92697       1     24          3   \n",
      "4996  4997   30           4      15     92037       4      4          1   \n",
      "4997  4998   63          39      24     93023       2      3          3   \n",
      "4998  4999   65          40      49     90034       3      5          2   \n",
      "4999  5000   28           4      83     92612       3     10          1   \n",
      "\n",
      "      Mortgage  Personal Loan  Securities Account  CD Account  Online  \\\n",
      "0            0              0                   1           0       0   \n",
      "1            0              0                   1           0       0   \n",
      "2            0              0                   0           0       0   \n",
      "3            0              0                   0           0       0   \n",
      "4            0              0                   0           0       0   \n",
      "...        ...            ...                 ...         ...     ...   \n",
      "4995         0              0                   0           0       1   \n",
      "4996        85              0                   0           0       1   \n",
      "4997         0              0                   0           0       0   \n",
      "4998         0              0                   0           0       1   \n",
      "4999         0              0                   0           0       1   \n",
      "\n",
      "      CreditCard  \n",
      "0              0  \n",
      "1              0  \n",
      "2              0  \n",
      "3              0  \n",
      "4              1  \n",
      "...          ...  \n",
      "4995           0  \n",
      "4996           0  \n",
      "4997           0  \n",
      "4998           0  \n",
      "4999           1  \n",
      "\n",
      "[5000 rows x 14 columns]\n"
     ]
    }
   ],
   "source": [
    "from sklearn.preprocessing import LabelEncoder\n",
    "label_encoder = LabelEncoder()\n",
    "bank_data[\"CCAvg\"] = label_encoder.fit_transform(bank_data[\"CCAvg\"])\n",
    "print(bank_data)"
   ]
  },
  {
   "cell_type": "code",
   "execution_count": 5,
   "metadata": {},
   "outputs": [],
   "source": [
    "\n",
    "Heart_X_train, Heart_X_test,Heart_y_train, Heart_y_test = train_test_split(Heart_data.iloc[:, :-1], Heart_data.iloc[:, -1], test_size=0.2, random_state=42) "
   ]
  },
  {
   "cell_type": "code",
   "execution_count": 6,
   "metadata": {},
   "outputs": [],
   "source": [
    "\n",
    "bank_X_train,bank_X_test,bank_y_train, bank_y_test = train_test_split(bank_data.iloc[:, :-1], bank_data.iloc[:, -1], test_size=0.2, random_state=42)"
   ]
  },
  {
   "cell_type": "code",
   "execution_count": 7,
   "metadata": {},
   "outputs": [],
   "source": [
    "\n",
    "svm_models = [\n",
    "    SVC(kernel='linear', C=1.0),\n",
    "    SVC(kernel='rbf', C=1.0, gamma='scale'),\n",
    "    SVC(kernel='poly', degree=3, C=1.0),\n",
    "    SVC(kernel='sigmoid', C=1.0)]"
   ]
  },
  {
   "cell_type": "code",
   "execution_count": 8,
   "metadata": {},
   "outputs": [],
   "source": [
    "datasets = [(Heart_X_train,Heart_X_test, Heart_y_train, Heart_y_test ), (bank_X_train, bank_y_train, bank_X_test, bank_y_test)]\n",
    "\n",
    "\n",
    "def evaluate_model(model, X_train, y_train, X_test, y_test):\n",
    "    model.fit(X_train, y_train)\n",
    "    y_pred = model.predict(X_test)\n",
    "    cm = confusion_matrix(y_test, y_pred)\n",
    "    acc = accuracy_score(y_test, y_pred)\n",
    "    precision = precision_score(y_test, y_pred, average='weighted')\n",
    "    recall = recall_score(y_test, y_pred, average='weighted')\n",
    "    f1 = f1_score(y_test, y_pred, average='weighted')\n",
    "    return cm, acc, precision, recall, f1"
   ]
  },
  {
   "cell_type": "code",
   "execution_count": 9,
   "metadata": {},
   "outputs": [
    {
     "name": "stdout",
     "output_type": "stream",
     "text": [
      "Heart_Attack_Prediction Dataset Evaluation:\n",
      "\tKernel: linear\n",
      "\tConfusion Matrix:\n",
      "[[25  4]\n",
      " [ 4 28]]\n",
      "\tAccuracy: 0.8689\n",
      "\tPrecision: 0.8689\n",
      "\tRecall: 0.8689\n",
      "\tF1-Score: 0.8689\n",
      "-----------------------------\n",
      "\tKernel: rbf\n",
      "\tConfusion Matrix:\n",
      "[[15 14]\n",
      " [ 4 28]]\n",
      "\tAccuracy: 0.7049\n",
      "\tPrecision: 0.7251\n",
      "\tRecall: 0.7049\n",
      "\tF1-Score: 0.6941\n",
      "-----------------------------\n",
      "\tKernel: poly\n",
      "\tConfusion Matrix:\n",
      "[[20  9]\n",
      " [ 5 27]]\n",
      "\tAccuracy: 0.7705\n",
      "\tPrecision: 0.7738\n",
      "\tRecall: 0.7705\n",
      "\tF1-Score: 0.7687\n",
      "-----------------------------\n",
      "\tKernel: sigmoid\n",
      "\tConfusion Matrix:\n",
      "[[ 0 29]\n",
      " [ 0 32]]\n",
      "\tAccuracy: 0.5246\n",
      "\tPrecision: 0.2752\n",
      "\tRecall: 0.5246\n",
      "\tF1-Score: 0.3610\n",
      "-----------------------------\n"
     ]
    },
    {
     "name": "stderr",
     "output_type": "stream",
     "text": [
      "C:\\Users\\rmssh\\AppData\\Local\\Packages\\PythonSoftwareFoundation.Python.3.11_qbz5n2kfra8p0\\LocalCache\\local-packages\\Python311\\site-packages\\sklearn\\metrics\\_classification.py:1471: UndefinedMetricWarning: Precision is ill-defined and being set to 0.0 in labels with no predicted samples. Use `zero_division` parameter to control this behavior.\n",
      "  _warn_prf(average, modifier, msg_start, len(result))\n"
     ]
    }
   ],
   "source": [
    "print(\"Heart_Attack_Prediction Dataset Evaluation:\")\n",
    "for i, model in enumerate(svm_models):\n",
    "    kernel_name = model.kernel\n",
    "    cm, acc, precision, recall, f1 = evaluate_model(model, Heart_X_train,Heart_y_train, Heart_X_test, Heart_y_test)\n",
    "    print(f\"\\tKernel: {kernel_name}\")\n",
    "    print(f\"\\tConfusion Matrix:\\n{cm}\")\n",
    "    print(f\"\\tAccuracy: {acc:.4f}\")\n",
    "    print(f\"\\tPrecision: {precision:.4f}\")\n",
    "    print(f\"\\tRecall: {recall:.4f}\")\n",
    "    print(f\"\\tF1-Score: {f1:.4f}\")\n",
    "    print(\"-----------------------------\")"
   ]
  },
  {
   "cell_type": "code",
   "execution_count": 10,
   "metadata": {},
   "outputs": [
    {
     "name": "stdout",
     "output_type": "stream",
     "text": [
      "bank Dataset Evaluation:\n"
     ]
    },
    {
     "name": "stderr",
     "output_type": "stream",
     "text": [
      "C:\\Users\\rmssh\\AppData\\Local\\Packages\\PythonSoftwareFoundation.Python.3.11_qbz5n2kfra8p0\\LocalCache\\local-packages\\Python311\\site-packages\\sklearn\\metrics\\_classification.py:1471: UndefinedMetricWarning: Precision is ill-defined and being set to 0.0 in labels with no predicted samples. Use `zero_division` parameter to control this behavior.\n",
      "  _warn_prf(average, modifier, msg_start, len(result))\n"
     ]
    },
    {
     "name": "stdout",
     "output_type": "stream",
     "text": [
      "\tKernel: linear\n",
      "\tConfusion Matrix:\n",
      "[[708   0]\n",
      " [292   0]]\n",
      "\tAccuracy: 0.7080\n",
      "\tPrecision: 0.5013\n",
      "\tRecall: 0.7080\n",
      "\tF1-Score: 0.5870\n",
      "-----------------------------\n"
     ]
    },
    {
     "name": "stderr",
     "output_type": "stream",
     "text": [
      "C:\\Users\\rmssh\\AppData\\Local\\Packages\\PythonSoftwareFoundation.Python.3.11_qbz5n2kfra8p0\\LocalCache\\local-packages\\Python311\\site-packages\\sklearn\\metrics\\_classification.py:1471: UndefinedMetricWarning: Precision is ill-defined and being set to 0.0 in labels with no predicted samples. Use `zero_division` parameter to control this behavior.\n",
      "  _warn_prf(average, modifier, msg_start, len(result))\n"
     ]
    },
    {
     "name": "stdout",
     "output_type": "stream",
     "text": [
      "\tKernel: rbf\n",
      "\tConfusion Matrix:\n",
      "[[708   0]\n",
      " [292   0]]\n",
      "\tAccuracy: 0.7080\n",
      "\tPrecision: 0.5013\n",
      "\tRecall: 0.7080\n",
      "\tF1-Score: 0.5870\n",
      "-----------------------------\n"
     ]
    },
    {
     "name": "stderr",
     "output_type": "stream",
     "text": [
      "C:\\Users\\rmssh\\AppData\\Local\\Packages\\PythonSoftwareFoundation.Python.3.11_qbz5n2kfra8p0\\LocalCache\\local-packages\\Python311\\site-packages\\sklearn\\metrics\\_classification.py:1471: UndefinedMetricWarning: Precision is ill-defined and being set to 0.0 in labels with no predicted samples. Use `zero_division` parameter to control this behavior.\n",
      "  _warn_prf(average, modifier, msg_start, len(result))\n"
     ]
    },
    {
     "name": "stdout",
     "output_type": "stream",
     "text": [
      "\tKernel: poly\n",
      "\tConfusion Matrix:\n",
      "[[708   0]\n",
      " [292   0]]\n",
      "\tAccuracy: 0.7080\n",
      "\tPrecision: 0.5013\n",
      "\tRecall: 0.7080\n",
      "\tF1-Score: 0.5870\n",
      "-----------------------------\n",
      "\tKernel: sigmoid\n",
      "\tConfusion Matrix:\n",
      "[[708   0]\n",
      " [292   0]]\n",
      "\tAccuracy: 0.7080\n",
      "\tPrecision: 0.5013\n",
      "\tRecall: 0.7080\n",
      "\tF1-Score: 0.5870\n",
      "-----------------------------\n"
     ]
    },
    {
     "name": "stderr",
     "output_type": "stream",
     "text": [
      "C:\\Users\\rmssh\\AppData\\Local\\Packages\\PythonSoftwareFoundation.Python.3.11_qbz5n2kfra8p0\\LocalCache\\local-packages\\Python311\\site-packages\\sklearn\\metrics\\_classification.py:1471: UndefinedMetricWarning: Precision is ill-defined and being set to 0.0 in labels with no predicted samples. Use `zero_division` parameter to control this behavior.\n",
      "  _warn_prf(average, modifier, msg_start, len(result))\n"
     ]
    }
   ],
   "source": [
    "\n",
    "print(\"bank Dataset Evaluation:\")\n",
    "for i, model in enumerate(svm_models):\n",
    "    kernel_name = model.kernel\n",
    "    cm, acc, precision, recall, f1 = evaluate_model(model,bank_X_train,bank_y_train, bank_X_test, bank_y_test)\n",
    "    print(f\"\\tKernel: {kernel_name}\")\n",
    "    print(f\"\\tConfusion Matrix:\\n{cm}\")\n",
    "    print(f\"\\tAccuracy: {acc:.4f}\")\n",
    "    print(f\"\\tPrecision: {precision:.4f}\")\n",
    "    print(f\"\\tRecall: {recall:.4f}\")\n",
    "    print(f\"\\tF1-Score: {f1:.4f}\")\n",
    "    print(\"-----------------------------\")\n"
   ]
  }
 ],
 "metadata": {
  "kernelspec": {
   "display_name": "Python 3",
   "language": "python",
   "name": "python3"
  },
  "language_info": {
   "codemirror_mode": {
    "name": "ipython",
    "version": 3
   },
   "file_extension": ".py",
   "mimetype": "text/x-python",
   "name": "python",
   "nbconvert_exporter": "python",
   "pygments_lexer": "ipython3",
   "version": "3.11.9"
  }
 },
 "nbformat": 4,
 "nbformat_minor": 2
}
