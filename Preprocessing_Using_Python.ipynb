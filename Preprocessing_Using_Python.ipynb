{
 "cells": [
  {
   "cell_type": "code",
   "execution_count": 1,
   "metadata": {},
   "outputs": [
    {
     "name": "stdout",
     "output_type": "stream",
     "text": [
      "          A  B_X  B_Y  B_Z\n",
      "0 -1.414214    1    0    0\n",
      "1 -0.707107    0    1    0\n",
      "2  0.000000    1    0    0\n",
      "3  0.707107    0    1    0\n",
      "4  1.414214    0    0    1\n"
     ]
    }
   ],
   "source": [
    "import pandas as pd\n",
    "import numpy as np\n",
    "\n",
    "class CustomOneHotEncoder:\n",
    "    def __init__(self):\n",
    "        self.mapping = {}\n",
    "\n",
    "    def fit(self, data):\n",
    "        unique_values = np.unique(data)\n",
    "        for i, value in enumerate(unique_values):\n",
    "            self.mapping[value] = i\n",
    "\n",
    "    def transform(self, data):\n",
    "        encoded_data = []\n",
    "        for value in data:\n",
    "            encoded_value = [0] * len(self.mapping)\n",
    "            if value in self.mapping:\n",
    "                encoded_value[self.mapping[value]] = 1\n",
    "            encoded_data.append(encoded_value)\n",
    "        return np.array(encoded_data)\n",
    "\n",
    "class CustomStandardScaler:\n",
    "    def __init__(self):\n",
    "        self.mean = None\n",
    "        self.std = None\n",
    "\n",
    "    def fit(self, data):\n",
    "        self.mean = np.mean(data, axis=0)\n",
    "        self.std = np.std(data, axis=0)\n",
    "\n",
    "    def transform(self, data):\n",
    "        return (data - self.mean) / self.std\n",
    "\n",
    "class FeatureEngineering:\n",
    "    def __init__(self, data):\n",
    "        self.data = data\n",
    "\n",
    "    def one_hot_encode(self, column_name):\n",
    "        encoder = CustomOneHotEncoder()\n",
    "        encoder.fit(self.data[column_name])\n",
    "        encoded_data = encoder.transform(self.data[column_name])\n",
    "        for i, value in enumerate(encoder.mapping.keys()):\n",
    "            self.data[f\"{column_name}_{value}\"] = encoded_data[:, i]\n",
    "        self.data.drop(columns=[column_name], inplace=True)\n",
    "\n",
    "    def scale_numerical_features(self, columns):\n",
    "        scaler = CustomStandardScaler()\n",
    "        scaler.fit(self.data[columns])\n",
    "        self.data[columns] = scaler.transform(self.data[columns])\n",
    "\n",
    "# Sample dataset with categorical and numerical columns\n",
    "data = {\n",
    "    'A': [1, 2, 3, 4, 5],\n",
    "    'B': ['X', 'Y', 'X', 'Y', 'Z'],\n",
    "}\n",
    "\n",
    "df = pd.DataFrame(data)\n",
    "\n",
    "# Custom feature engineering class\n",
    "fe = FeatureEngineering(df)\n",
    "\n",
    "# One-hot encode categorical features\n",
    "fe.one_hot_encode('B')\n",
    "\n",
    "# Scale numerical features\n",
    "fe.scale_numerical_features(['A'])\n",
    "\n",
    "print(fe.data)"
   ]
  }
 ],
 "metadata": {
  "kernelspec": {
   "display_name": "Python 3",
   "language": "python",
   "name": "python3"
  },
  "language_info": {
   "codemirror_mode": {
    "name": "ipython",
    "version": 3
   },
   "file_extension": ".py",
   "mimetype": "text/x-python",
   "name": "python",
   "nbconvert_exporter": "python",
   "pygments_lexer": "ipython3",
   "version": "3.11.9"
  }
 },
 "nbformat": 4,
 "nbformat_minor": 2
}
